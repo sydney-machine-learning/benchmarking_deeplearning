{
 "cells": [
  {
   "cell_type": "code",
   "execution_count": 17,
   "id": "1222bca9",
   "metadata": {},
   "outputs": [],
   "source": [
    "import numpy as np\n",
    "import pandas as pd\n",
    "import tensorflow as tf\n",
    "\n",
    "from tensorflow.keras.layers import Dense, Flatten, Conv2D\n",
    "from tensorflow.keras import Model"
   ]
  },
  {
   "cell_type": "code",
   "execution_count": 18,
   "id": "c005d00b",
   "metadata": {},
   "outputs": [],
   "source": [
    "base_path = \"//home/roger/code/benchmarking_deeplearning/\"\n",
    "data_folder = base_path + \"data\"\n",
    "model_folder = base_path + \"model\""
   ]
  },
  {
   "cell_type": "code",
   "execution_count": 19,
   "id": "79ceaeb7",
   "metadata": {},
   "outputs": [],
   "source": [
    "cifar100 = tf.keras.datasets.cifar100"
   ]
  },
  {
   "cell_type": "code",
   "execution_count": 20,
   "id": "fac25a45",
   "metadata": {},
   "outputs": [],
   "source": [
    "train, test = cifar100.load_data()\n",
    "\n",
    "x_train, y_train = train\n",
    "x_train = x_train.astype(np.float16)\n",
    "\n",
    "x_test, y_test = test\n",
    "x_test  = x_test.astype(np.float16)"
   ]
  },
  {
   "cell_type": "code",
   "execution_count": 21,
   "id": "a761f8f0",
   "metadata": {},
   "outputs": [],
   "source": [
    "train_ds = (tf.data.Dataset.from_tensor_slices((x_train, y_train))\n",
    "    .shuffle(10000).batch(32))\n",
    "test_ds = tf.data.Dataset.from_tensor_slices((x_test, y_test)).batch(32)"
   ]
  },
  {
   "cell_type": "code",
   "execution_count": 22,
   "id": "b858f0c1",
   "metadata": {},
   "outputs": [],
   "source": [
    "class test_CNN(Model):\n",
    "    def __init__(self):\n",
    "        super(test_CNN, self).__init__()\n",
    "        self.conv1 = Conv2D(32, 3, activation='relu')\n",
    "        self.flatten = Flatten()\n",
    "        self.d1 = Dense(128, activation='relu')\n",
    "        self.d2 = Dense(100)\n",
    "\n",
    "    def call(self, x):\n",
    "        x = self.conv1(x)\n",
    "        x = self.flatten(x)\n",
    "        x = self.d1(x)\n",
    "        return self.d2(x)"
   ]
  },
  {
   "cell_type": "code",
   "execution_count": 23,
   "id": "940e5bc4",
   "metadata": {},
   "outputs": [],
   "source": [
    "loss_object = tf.keras.losses.SparseCategoricalCrossentropy(from_logits=True)\n",
    "optimizer = tf.keras.optimizers.Adam()\n",
    "model = test_CNN()"
   ]
  },
  {
   "cell_type": "code",
   "execution_count": 24,
   "id": "bd7e4c8e",
   "metadata": {},
   "outputs": [],
   "source": [
    "train_loss = tf.keras.metrics.Mean(name='train_loss')\n",
    "train_accuracy = tf.keras.metrics.SparseCategoricalAccuracy(name='train_accuracy')\n",
    "\n",
    "test_loss = tf.keras.metrics.Mean(name='test_loss')\n",
    "test_accuracy = tf.keras.metrics.SparseCategoricalAccuracy(name='test_accuracy')"
   ]
  },
  {
   "cell_type": "code",
   "execution_count": 25,
   "id": "11194711",
   "metadata": {},
   "outputs": [],
   "source": [
    "@tf.function\n",
    "def train_step(images, labels):\n",
    "    with tf.GradientTape() as tape:\n",
    "        # training=True is only needed if there are layers with different\n",
    "        # behavior during training versus inference (e.g. Dropout).\n",
    "        predictions = model(images, training=True)\n",
    "        loss = loss_object(labels, predictions)\n",
    "        gradients = tape.gradient(loss, model.trainable_variables)\n",
    "        optimizer.apply_gradients(zip(gradients, model.trainable_variables))\n",
    "\n",
    "        train_loss(loss)\n",
    "        train_accuracy(labels, predictions)\n"
   ]
  },
  {
   "cell_type": "code",
   "execution_count": 26,
   "id": "f3838ebd",
   "metadata": {},
   "outputs": [],
   "source": [
    "@tf.function\n",
    "def test_step(images, labels):\n",
    "    # training=False is only needed if there are layers with different\n",
    "    # behavior during training versus inference (e.g. Dropout).\n",
    "    predictions = model(images, training=False)\n",
    "    t_loss = loss_object(labels, predictions)\n",
    "\n",
    "    test_loss(t_loss)\n",
    "    test_accuracy(labels, predictions)\n"
   ]
  },
  {
   "cell_type": "code",
   "execution_count": 27,
   "id": "373da419",
   "metadata": {
    "scrolled": true
   },
   "outputs": [
    {
     "name": "stdout",
     "output_type": "stream",
     "text": [
      "Epoch 1, Loss: 7.851195812225342, Accuracy: 0.8560000061988831, Test Loss: 4.605212688446045, Test Accuracy: 1.0\n",
      "Epoch 2, Loss: 4.605669975280762, Accuracy: 0.8259999752044678, Test Loss: 4.605998992919922, Test Accuracy: 1.0099999904632568\n",
      "Epoch 3, Loss: 4.605868339538574, Accuracy: 0.8679999709129333, Test Loss: 4.605704307556152, Test Accuracy: 1.0\n",
      "Epoch 4, Loss: 4.60590934753418, Accuracy: 0.8700000047683716, Test Loss: 4.605215072631836, Test Accuracy: 1.0\n",
      "Epoch 5, Loss: 4.605522632598877, Accuracy: 0.8720000386238098, Test Loss: 4.605223655700684, Test Accuracy: 1.0\n"
     ]
    }
   ],
   "source": [
    "EPOCHS = 5\n",
    "\n",
    "for epoch in range(EPOCHS):\n",
    "    # Reset the metrics at the start of the next epoch\n",
    "    train_loss.reset_states()\n",
    "    train_accuracy.reset_states()\n",
    "    test_loss.reset_states()\n",
    "    test_accuracy.reset_states()\n",
    "\n",
    "    for images, labels in train_ds:\n",
    "        train_step(images, labels)\n",
    "\n",
    "    for test_images, test_labels in test_ds:\n",
    "        test_step(test_images, test_labels)\n",
    "\n",
    "    print(\n",
    "        f'Epoch {epoch + 1}, '\n",
    "        f'Loss: {train_loss.result()}, '\n",
    "        f'Accuracy: {train_accuracy.result() * 100}, '\n",
    "        f'Test Loss: {test_loss.result()}, '\n",
    "        f'Test Accuracy: {test_accuracy.result() * 100}'\n",
    "    )\n"
   ]
  }
 ],
 "metadata": {
  "kernelspec": {
   "display_name": "benchmarking",
   "language": "python",
   "name": "benchmarking"
  },
  "language_info": {
   "codemirror_mode": {
    "name": "ipython",
    "version": 3
   },
   "file_extension": ".py",
   "mimetype": "text/x-python",
   "name": "python",
   "nbconvert_exporter": "python",
   "pygments_lexer": "ipython3",
   "version": "3.9.7"
  }
 },
 "nbformat": 4,
 "nbformat_minor": 5
}
